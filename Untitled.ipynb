{
 "cells": [
  {
   "cell_type": "code",
   "execution_count": 1,
   "metadata": {},
   "outputs": [],
   "source": [
    "from farm_files import visualization as visualization  #Importere programmet for bruk i jupyter\n",
    "from IPython.display import HTML  #En pakke for å se videoer i jupyter"
   ]
  },
  {
   "cell_type": "code",
   "execution_count": 2,
   "metadata": {},
   "outputs": [],
   "source": [
    "antiep = visualization('Antiepileptika')\n",
    "respir = visualization('R')"
   ]
  },
  {
   "cell_type": "code",
   "execution_count": 3,
   "metadata": {},
   "outputs": [
    {
     "name": "stdout",
     "output_type": "stream",
     "text": [
      "-------------------------------------------------------------------------------------------------------------\n",
      "|                       Tabell av parameterene, alt innenfor \" og med \" er parameteren                      |\n",
      "|-----------------------------------------------------------------------------------------------------------|\n",
      "|Kjønn                     |Medisiner/medisintyper    |Aldersgrupper             |Regioner/steder           |\n",
      "|--------------------------|--------------------------|--------------------------|--------------------------|\n",
      "|\"Kvinne\"                  |\"Antiepileptika\"          |\"0 - 4\"                   |\"Hele landet\"             |\n",
      "|\"Mann\"                    |\"Lamotrigin\"              |\"5 - 9\"                   |\"Helseregion Midt-Norge\"  |\n",
      "|                          |\"Levetiracetam\"           |\"10 - 14\"                 |\"Helseregion Nord-Norge\"  |\n",
      "|                          |\"Oxkarbazepin\"            |\"15 - 19\"                 |\"Helseregion Sør-Øst\"     |\n",
      "|                          |\"Valproat\"                |\"20 - 24\"                 |\"Helseregion Vest\"        |\n",
      "|                          |                          |\"25 - 29\"                 |\"Akershus\"                |\n",
      "|                          |                          |\"30 - 34\"                 |\"Aust-Agder\"              |\n",
      "|                          |                          |\"35 - 39\"                 |\"Buskerud\"                |\n",
      "|                          |                          |\"40 - 44\"                 |\"Finnmark\"                |\n",
      "|                          |                          |\"45 - 49\"                 |\"Hedmark\"                 |\n",
      "|                          |                          |\"50 - 54\"                 |\"Hordaland\"               |\n",
      "|                          |                          |\"55 - 59\"                 |\"Møre og Romsdal\"         |\n",
      "|                          |                          |\"60 - 64\"                 |\"Nordland\"                |\n",
      "|                          |                          |\"65 - 69\"                 |\"Oppland\"                 |\n",
      "|                          |                          |\"70 - 74\"                 |\"Oslo\"                    |\n",
      "|                          |                          |\"75 - 79\"                 |\"Rogaland\"                |\n",
      "|                          |                          |\"80 - 84\"                 |\"Sogn og Fjordane\"        |\n",
      "|                          |                          |\"85 - 89\"                 |\"Telemark\"                |\n",
      "|                          |                          |\"90+\"                     |\"Troms\"                   |\n",
      "|                          |                          |                          |\"Trøndelag\"               |\n",
      "|                          |                          |                          |\"Vest-Agder\"              |\n",
      "|                          |                          |                          |\"Vestfold\"                |\n",
      "|                          |                          |                          |\"Østfold\"                 |\n",
      "|-----------------------------------------------------------------------------------------------------------|\n",
      "|                                          Årstall med datapunkter:                                         |\n",
      "|-----------------------------------------------------------------------------------------------------------|\n",
      "|2004, 2005, 2006, 2007, 2008, 2009, 2010, 2011, 2012, 2013, 2014, 2015, 2016, 2017, 2018                   |\n",
      "-------------------------------------------------------------------------------------------------------------\n",
      "-------------------------------------------------------------------------------------------------------------\n",
      "|                       Tabell av parameterene, alt innenfor \" og med \" er parameteren                      |\n",
      "|-----------------------------------------------------------------------------------------------------------|\n",
      "|Kjønn                     |Medisiner/medisintyper    |Aldersgrupper             |Regioner/steder           |\n",
      "|--------------------------|--------------------------|--------------------------|--------------------------|\n",
      "|\"Kvinne\"                  |\"R\"                       |\"0 - 4\"                   |\"Hele landet\"             |\n",
      "|\"Mann\"                    |\"R01\"                     |\"5 - 9\"                   |\"Helseregion Midt-Norge\"  |\n",
      "|                          |\"R02\"                     |\"10 - 14\"                 |\"Helseregion Nord-Norge\"  |\n",
      "|                          |\"R03\"                     |\"15 - 19\"                 |\"Helseregion Sør-Øst\"     |\n",
      "|                          |\"R05\"                     |\"20 - 24\"                 |\"Helseregion Vest\"        |\n",
      "|                          |\"R06\"                     |\"25 - 29\"                 |\"Akershus\"                |\n",
      "|                          |\"R07\"                     |\"30 - 34\"                 |\"Aust-Agder\"              |\n",
      "|                          |                          |\"35 - 39\"                 |\"Buskerud\"                |\n",
      "|                          |                          |\"40 - 44\"                 |\"Finnmark\"                |\n",
      "|                          |                          |\"45 - 49\"                 |\"Hedmark\"                 |\n",
      "|                          |                          |\"50 - 54\"                 |\"Hordaland\"               |\n",
      "|                          |                          |\"55 - 59\"                 |\"Møre og Romsdal\"         |\n",
      "|                          |                          |\"60 - 64\"                 |\"Nordland\"                |\n",
      "|                          |                          |\"65 - 69\"                 |\"Oppland\"                 |\n",
      "|                          |                          |\"70 - 74\"                 |\"Oslo\"                    |\n",
      "|                          |                          |\"75 - 79\"                 |\"Rogaland\"                |\n",
      "|                          |                          |\"80 - 84\"                 |\"Sogn og Fjordane\"        |\n",
      "|                          |                          |\"85 - 89\"                 |\"Telemark\"                |\n",
      "|                          |                          |\"90+\"                     |\"Troms\"                   |\n",
      "|                          |                          |                          |\"Trøndelag\"               |\n",
      "|                          |                          |                          |\"Vest-Agder\"              |\n",
      "|                          |                          |                          |\"Vestfold\"                |\n",
      "|                          |                          |                          |\"Østfold\"                 |\n",
      "|-----------------------------------------------------------------------------------------------------------|\n",
      "|                                          Årstall med datapunkter:                                         |\n",
      "|-----------------------------------------------------------------------------------------------------------|\n",
      "|2004, 2005, 2006, 2007, 2008, 2009, 2010, 2011, 2012, 2013, 2014, 2015, 2016, 2017, 2018                   |\n",
      "-------------------------------------------------------------------------------------------------------------\n"
     ]
    }
   ],
   "source": [
    "antiep.tabell()\n",
    "respir.tabell()"
   ]
  }
 ],
 "metadata": {
  "kernelspec": {
   "display_name": "Python 3",
   "language": "python",
   "name": "python3"
  },
  "language_info": {
   "codemirror_mode": {
    "name": "ipython",
    "version": 3
   },
   "file_extension": ".py",
   "mimetype": "text/x-python",
   "name": "python",
   "nbconvert_exporter": "python",
   "pygments_lexer": "ipython3",
   "version": "3.6.4"
  }
 },
 "nbformat": 4,
 "nbformat_minor": 2
}
